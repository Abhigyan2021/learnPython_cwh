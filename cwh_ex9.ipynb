{
 "cells": [
  {
   "cell_type": "code",
   "execution_count": 1,
   "id": "0849d097",
   "metadata": {},
   "outputs": [],
   "source": [
    "import win32com.client as wincom\n",
    "import time"
   ]
  },
  {
   "cell_type": "code",
   "execution_count": 2,
   "id": "5447e11d",
   "metadata": {},
   "outputs": [],
   "source": [
    "speak = wincom.Dispatch(\"SAPI.SpVoice\")"
   ]
  },
  {
   "cell_type": "code",
   "execution_count": 3,
   "id": "24ba1c02",
   "metadata": {},
   "outputs": [
    {
     "data": {
      "text/plain": [
       "1"
      ]
     },
     "execution_count": 3,
     "metadata": {},
     "output_type": "execute_result"
    }
   ],
   "source": [
    "text = \"Python text-to-speech text. using win32com.client\"\n",
    "speak.Speak(text)"
   ]
  },
  {
   "cell_type": "code",
   "execution_count": 4,
   "id": "7cfbad1f",
   "metadata": {},
   "outputs": [
    {
     "data": {
      "text/plain": [
       "1"
      ]
     },
     "execution_count": 4,
     "metadata": {},
     "output_type": "execute_result"
    }
   ],
   "source": [
    "text = \"Python text-to-speech test. using win32com.client\"\n",
    "speak.Speak(text)\n",
    "\n",
    "# 3 second sleep\n",
    "time.sleep(3) \n",
    "\n",
    "text = \"This text is read after 3 seconds\"\n",
    "speak.Speak(text)"
   ]
  },
  {
   "cell_type": "code",
   "execution_count": 5,
   "id": "08d741d8",
   "metadata": {},
   "outputs": [
    {
     "data": {
      "text/plain": [
       "1"
      ]
     },
     "execution_count": 5,
     "metadata": {},
     "output_type": "execute_result"
    }
   ],
   "source": [
    "\n",
    "names = [\"Rahul\", \"Modi\", \"Tharoor\", \"Kharge\", \"Nadda\", \"Shah\" ]\n",
    "\n",
    "for name in names :\n",
    "    text = f\"Shoutout to {name}\"\n",
    "    speak.Speak(text)\n",
    "\n",
    "speak.Speak(\"You all did well.\")"
   ]
  }
 ],
 "metadata": {
  "kernelspec": {
   "display_name": "Python 3 (ipykernel)",
   "language": "python",
   "name": "python3"
  },
  "language_info": {
   "codemirror_mode": {
    "name": "ipython",
    "version": 3
   },
   "file_extension": ".py",
   "mimetype": "text/x-python",
   "name": "python",
   "nbconvert_exporter": "python",
   "pygments_lexer": "ipython3",
   "version": "3.11.4"
  }
 },
 "nbformat": 4,
 "nbformat_minor": 5
}
